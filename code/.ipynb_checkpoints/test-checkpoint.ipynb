{
 "cells": [
  {
   "cell_type": "code",
   "execution_count": 22,
   "metadata": {},
   "outputs": [],
   "source": [
    "def check_input_folder_and_return_caseIDs(input_folder, expected_num_modalities):\n",
    "    print(\"This model expects %d input modalities for each image\" % expected_num_modalities)\n",
    "    files = subfiles(input_folder, suffix=\".nii.gz\", join=False, sort=True)\n",
    "\n",
    "    maybe_case_ids = np.unique([i[:-12] for i in files])\n",
    "\n",
    "    remaining = deepcopy(files)\n",
    "    missing = []\n",
    "\n",
    "    assert len(files) > 0, \"input folder did not contain any images (expected to find .nii.gz file endings)\"\n",
    "\n",
    "    # now check if all required files are present and that no unexpected files are remaining\n",
    "    for c in maybe_case_ids:\n",
    "        for n in range(expected_num_modalities):\n",
    "            expected_output_file = c + \"_%04.0d.nii.gz\" % n\n",
    "            if not isfile(join(input_folder, expected_output_file)):\n",
    "                missing.append(expected_output_file)\n",
    "            else:\n",
    "                remaining.remove(expected_output_file)\n",
    "\n",
    "    print(\"Found %d unique case ids, here are some examples:\" % len(maybe_case_ids),\n",
    "          np.random.choice(maybe_case_ids, min(len(maybe_case_ids), 10)))\n",
    "    print(\"If they don't look right, make sure to double check your filenames. They must end with _0000.nii.gz etc\")\n",
    "\n",
    "    if len(remaining) > 0:\n",
    "        print(\"found %d unexpected remaining files in the folder. Here are some examples:\" % len(remaining),\n",
    "              np.random.choice(remaining, min(len(remaining), 10)))\n",
    "\n",
    "    if len(missing) > 0:\n",
    "        print(\"Some files are missing:\")\n",
    "        print(missing)\n",
    "        raise RuntimeError(\"missing files in input_folder\")\n",
    "\n",
    "    return maybe_case_ids\n",
    "\n"
   ]
  },
  {
   "cell_type": "code",
   "execution_count": 4,
   "metadata": {},
   "outputs": [],
   "source": [
    "import pickle\n",
    "\n",
    "def load_pickle(file, mode='rb'):\n",
    "    with open(file, mode) as f:\n",
    "        a = pickle.load(f)\n",
    "    return a"
   ]
  },
  {
   "cell_type": "code",
   "execution_count": 9,
   "metadata": {},
   "outputs": [],
   "source": [
    "def subfiles(folder, join=True, prefix=None, suffix=None, sort=True):\n",
    "    if join:\n",
    "        l = os.path.join\n",
    "    else:\n",
    "        l = lambda x, y: y\n",
    "    res = [l(folder, i) for i in os.listdir(folder) if os.path.isfile(os.path.join(folder, i))\n",
    "            and (prefix is None or i.startswith(prefix))\n",
    "            and (suffix is None or i.endswith(suffix))]\n",
    "    if sort:\n",
    "        res.sort()\n",
    "    return res"
   ]
  },
  {
   "cell_type": "code",
   "execution_count": 17,
   "metadata": {},
   "outputs": [
    {
     "name": "stdout",
     "output_type": "stream",
     "text": [
      "This model expects 1 input modalities for each image\n",
      "Found 140 unique case ids, here are some examples: ['hepaticvessel_355' 'hepaticvessel_187' 'hepaticvessel_346'\n",
      " 'hepaticvessel_212' 'hepaticvessel_306' 'hepaticvessel_304'\n",
      " 'hepaticvessel_410' 'hepaticvessel_451' 'hepaticvessel_326'\n",
      " 'hepaticvessel_205']\n",
      "If they don't look right, make sure to double check your filenames. They must end with _0000.nii.gz etc\n"
     ]
    }
   ],
   "source": [
    "import os\n",
    "from copy import deepcopy\n",
    "from batchgenerators.utilities.file_and_folder_operations import *\n",
    "\n",
    "from paths import DATASET_DIR, default_plans_identifier, network_training_output_dir, default_cascade_trainer, default_trainer\n",
    "import numpy as np \n",
    "model_folder_name = \"/data0/JY/project/algorithm/nnUNet/DATASET/nnUNet_trained_models/pretrain/3d_fullres/Task008_HepaticVessel/nnUNetTrainerV2__nnUNetPlansv2.1\"\n",
    "input_folder = \"/data0/JY/project/algorithm/nnUNet/DATASET/nnUNet_raw/nnUNet_raw_data/Task008_HepaticVessel/imagesTs\"\n",
    "expected_num_modalities = load_pickle(os.path.join(model_folder_name, \"plans.pkl\"))['num_modalities']\n",
    "all_files = subfiles(input_folder, suffix=\".nii.gz\", join=False, sort=True)\n",
    "\n",
    "case_ids = check_input_folder_and_return_caseIDs(input_folder, expected_num_modalities)\n",
    "\n",
    "list_of_lists = [[os.path.join(input_folder, i) for i in all_files if i[:len(j)].startswith(j) and len(i) == (len(j) + 12)] for j in case_ids]"
   ]
  },
  {
   "cell_type": "code",
   "execution_count": 21,
   "metadata": {},
   "outputs": [
    {
     "ename": "AttributeError",
     "evalue": "'list' object has no attribute 'shape'",
     "output_type": "error",
     "traceback": [
      "\u001b[0;31m---------------------------------------------------------------------------\u001b[0m",
      "\u001b[0;31mAttributeError\u001b[0m                            Traceback (most recent call last)",
      "\u001b[0;32m<ipython-input-21-55cf33c8a6bc>\u001b[0m in \u001b[0;36m<module>\u001b[0;34m\u001b[0m\n\u001b[1;32m      1\u001b[0m \u001b[0ma\u001b[0m \u001b[0;34m=\u001b[0m \u001b[0mlist_of_lists\u001b[0m\u001b[0;34m[\u001b[0m\u001b[0;36m3\u001b[0m\u001b[0;34m:\u001b[0m\u001b[0;34m:\u001b[0m\u001b[0;36m4\u001b[0m\u001b[0;34m]\u001b[0m\u001b[0;34m\u001b[0m\u001b[0;34m\u001b[0m\u001b[0m\n\u001b[0;32m----> 2\u001b[0;31m \u001b[0mprint\u001b[0m\u001b[0;34m(\u001b[0m\u001b[0ma\u001b[0m\u001b[0;34m.\u001b[0m\u001b[0mshape\u001b[0m\u001b[0;34m(\u001b[0m\u001b[0;34m)\u001b[0m\u001b[0;34m)\u001b[0m\u001b[0;34m\u001b[0m\u001b[0;34m\u001b[0m\u001b[0m\n\u001b[0m",
      "\u001b[0;31mAttributeError\u001b[0m: 'list' object has no attribute 'shape'"
     ]
    }
   ],
   "source": [
    "a = list_of_lists[3::4]\n"
   ]
  },
  {
   "cell_type": "code",
   "execution_count": null,
   "metadata": {},
   "outputs": [],
   "source": []
  }
 ],
 "metadata": {
  "kernelspec": {
   "display_name": "Python 3",
   "language": "python",
   "name": "python3"
  },
  "language_info": {
   "codemirror_mode": {
    "name": "ipython",
    "version": 3
   },
   "file_extension": ".py",
   "mimetype": "text/x-python",
   "name": "python",
   "nbconvert_exporter": "python",
   "pygments_lexer": "ipython3",
   "version": "3.7.9"
  }
 },
 "nbformat": 4,
 "nbformat_minor": 4
}
